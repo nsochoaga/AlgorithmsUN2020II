{
  "nbformat": 4,
  "nbformat_minor": 0,
  "metadata": {
    "colab": {
      "name": "Untitled8.ipynb",
      "provenance": [],
      "collapsed_sections": []
    },
    "kernelspec": {
      "name": "python3",
      "display_name": "Python 3"
    },
    "accelerator": "TPU"
  },
  "cells": [
    {
      "cell_type": "markdown",
      "metadata": {
        "id": "MFSFkEz4mIHF"
      },
      "source": [
        "#Importación de librerias y Declaración de barajas"
      ]
    },
    {
      "cell_type": "code",
      "metadata": {
        "id": "CfEjTkwVTRhe"
      },
      "source": [
        "import random as r\n",
        "import numpy as np\n",
        "import matplotlib.pyplot as plt\n",
        "\n",
        "spanishDeck48=[1,2,3,4,5,6,7,10,11,12,1,2,3,4,5,6,7,8,9,10,11,12,1,2,3,4,5,6,7,8,9,10,11,12,1,2,3,4,5,6,7,8,9,10,11,12]\n",
        "pokerDeck58=[1,2,3,4,5,6,7,8,9,10,11,12,13,1,2,3,4,5,6,7,8,9,10,11,12,13,1,2,3,4,5,6,7,8,9,10,11,12,13,1,2,3,4,5,6,7,8,9,10,11,12,13]\n",
        "spanishDeckValues=[1,2,3,4,5,6,7,8,9,10,10,10,1,2,3,4,5,6,7,8,9,10,10,10,1,2,3,4,5,6,7,8,9,10,10,10,1,2,3,4,5,6,7,8,9,10,10,10]\n",
        "pokerDeckValues=[1,2,3,4,5,6,7,8,9,10,10,10,10,1,2,3,4,5,6,7,8,9,10,10,10,10,1,2,3,4,5,6,7,8,9,10,10,10,10,1,2,3,4,5,6,7,8,9,10,10,10,10]\n",
        "\n",
        "\n",
        "count21 =0\n",
        "countNo21 =0\n",
        "run = True"
      ],
      "execution_count": null,
      "outputs": []
    },
    {
      "cell_type": "markdown",
      "metadata": {
        "id": "INWxRyXnmc9q"
      },
      "source": [
        "#1.\n",
        "Estimate the probability of getting a 21, the average number of cards required to complete 21 and plot the experimental distribution of the number of card required to complete 21 drawing cards sequentially from a shuffled Spanish 48-card deck with card values \n",
        "- [1,2,3,4,5,6,7,8,9,10,11,12,1,2,3,4,5,6,7,8,9,10,11,12,1,2,3,4,5,6,7,8,9,10,11,12,1,2,3,4,5,6,7,8,9,10,11,12] \\\n",
        "and from a shuffled Poker 52-card with card values \n",
        "- [1,2,3,4,5,6,7,8,9,10,11,12,13,1,2,3,4,5,6,7,8,9,10,11,12,13,1,2,3,4,5,6,7,8,9,10,11,12,13,1,2,3,4,5,6,7,8,9,10,11,12,13] \\\n",
        " using Montecarlo with 10 millions simulations."
      ]
    },
    {
      "cell_type": "code",
      "metadata": {
        "id": "XioOKkjNTeVz"
      },
      "source": [
        "#Prinmer punto \n",
        "def monteCarlo(game, deck):\n",
        "  count21 =0 #\"Numero de veces que tenemos 21\"\n",
        "  countNo21 =0 #\"Numero de veces que NO tenemos 21\"\n",
        "  hand=[] #Mano\n",
        "  listCard21=[] #Lista de cartas con la cual se obtine 21\n",
        "  l21f=[]\n",
        "  CountP=[] #Contador de aciertos \n",
        "  CountNP=[]\n",
        "  count =0 #Lleva la suma de las cartas\n",
        "  cantCard = np.array([]) #Cantidad de cartas \n",
        "  \n",
        "  for k in range(game):\n",
        "    count =0\n",
        "    x=deck[:]\n",
        "    for i in x:   \n",
        "      y = r.choice(x)\n",
        "      #print('La carta que salio es: ',y)#########################################3\n",
        "      hand.append(y)\n",
        "      x.remove(y)\n",
        "      count = sum(hand)\n",
        "      #print(count)#######################################\n",
        "      if count == 21:\n",
        "        count21+=1\n",
        "        count=0\n",
        "        #print(\"La mano fue: \",hand)#######################################\n",
        "        l21f=hand[:]\n",
        "        cantCard = np.append(cantCard,int(len(hand)))\n",
        "        #print(cantCard,\"Esto es tama\")####################################\n",
        "        listCard21.append([l21f])\n",
        "        hand=[]\n",
        "        l21f =[]\n",
        "        break\n",
        "      elif count>21:\n",
        "        countNo21+=1\n",
        "        count=0\n",
        "        hand=[]\n",
        "        l21f =[]\n",
        "        break\n",
        "    CountP.append(count21/(count21+countNo21))\n",
        "    CountNP.append(countNo21/(count21+countNo21))\n",
        "    #print(\"Lista de las probabilidades: \",CountP)\n",
        "    #print(count21+countNo21)\n",
        "\n",
        "  print(\"Éxito  : \",round((count21/(game))*100),\"%\")\n",
        "  print(\"Fracaso: \",round((countNo21/(game))*100),\"%\")\n",
        "  print(\"Probabulidad a partir del promedio de las probabilidades\")\n",
        "  print(\"Éxito  : \",np.mean(CountP)*100,\"%\")\n",
        "  print(\"Fracaso: \",np.mean(CountNP)*100,\"%\")\n",
        "\n",
        "  plt.hist(cantCard, bins= [1,2,3,4,5,6,7,8,9,10,11,12] )\n",
        "  plt.show()"
      ],
      "execution_count": null,
      "outputs": []
    },
    {
      "cell_type": "code",
      "metadata": {
        "id": "uIpixIxuUnOT",
        "outputId": "9022d124-e3ee-4903-c015-2f049ffdc9d3",
        "colab": {
          "base_uri": "https://localhost:8080/",
          "height": 751
        }
      },
      "source": [
        "monteCarlo(10000000,spanishDeck48)\n",
        "monteCarlo(10000000,pokerDeck58)\n",
        "print(\"\\n\\n\\n\")\n"
      ],
      "execution_count": null,
      "outputs": [
        {
          "output_type": "stream",
          "text": [
            "Éxito  :  16 %\n",
            "Fracaso:  84 %\n",
            "Probabulidad a partir del promedio de las probabilidades\n",
            "Éxito  :  15.863373940993542 %\n",
            "Fracaso:  84.13662605900649 %\n"
          ],
          "name": "stdout"
        },
        {
          "output_type": "display_data",
          "data": {
            "image/png": "[encoded data removed]",
            "text/plain": [
              "<Figure size 432x288 with 1 Axes>"
            ]
          },
          "metadata": {
            "tags": [],
            "needs_background": "light"
          }
        },
        {
          "output_type": "stream",
          "text": [
            "Éxito  :  14 %\n",
            "Fracaso:  86 %\n",
            "Probabulidad a partir del promedio de las probabilidades\n",
            "Éxito  :  14.463605367279886 %\n",
            "Fracaso:  85.53639463272017 %\n"
          ],
          "name": "stdout"
        },
        {
          "output_type": "display_data",
          "data": {
            "image/png": "[encoded data removed]",
            "text/plain": [
              "<Figure size 432x288 with 1 Axes>"
            ]
          },
          "metadata": {
            "tags": [],
            "needs_background": "light"
          }
        },
        {
          "output_type": "stream",
          "text": [
            "\n",
            "\n",
            "\n",
            "\n"
          ],
          "name": "stdout"
        }
      ]
    },
    {
      "cell_type": "markdown",
      "metadata": {
        "id": "gleehFEBoMp2"
      },
      "source": [
        "#2\n",
        "Estimate the probability of getting a 21, the average number of cards required to complete 21 and plot the experimental distribution of the number of card required to complete 21 drawing cards sequentially from a shuffled Spanish 48-card deck with card values\n",
        " - [1,2,3,4,5,6,7,10,10,10,1,2,3,4,5,6,7,8,9,10,10,10,1,2,3,4,5,6,7,8,9,10,10,10,1,2,3,4,5,6,7,8,9,10,10,10] \\\n",
        " and from a shuffled Poker 52-card deck with card values \n",
        " - [1,2,3,4,5,6,7,8,9,10,10,10,10,1,2,3,4,5,6,7,8,9,10,10,10,10,1,2,3,4,5,6,7,8,9,10,10,10,10,1,2,3,4,5,6,7,8,9,10,10,10,10] \\\n",
        " using Montecarlo with 10 millions simulations."
      ]
    },
    {
      "cell_type": "code",
      "metadata": {
        "id": "JAzk7Q_aWm91",
        "outputId": "35b8924f-1184-40fe-ad89-78d233f5b1dd",
        "colab": {
          "base_uri": "https://localhost:8080/",
          "height": 683
        }
      },
      "source": [
        "#--------------------Pto2----------------------------------\n",
        "monteCarlo(10000000,spanishDeckValues)\n",
        "monteCarlo(10000000,pokerDeckValues)\n"
      ],
      "execution_count": null,
      "outputs": [
        {
          "output_type": "stream",
          "text": [
            "Éxito  :  15 %\n",
            "Fracaso:  85 %\n",
            "Probabulidad a partir del promedio de las probabilidades\n",
            "Éxito  :  14.970319012351801 %\n",
            "Fracaso:  85.02968098764818 %\n"
          ],
          "name": "stdout"
        },
        {
          "output_type": "display_data",
          "data": {
            "image/png": "[encoded data removed]",
            "text/plain": [
              "<Figure size 432x288 with 1 Axes>"
            ]
          },
          "metadata": {
            "tags": [],
            "needs_background": "light"
          }
        },
        {
          "output_type": "stream",
          "text": [
            "Éxito  :  14 %\n",
            "Fracaso:  86 %\n",
            "Probabulidad a partir del promedio de las probabilidades\n",
            "Éxito  :  14.032943746922278 %\n",
            "Fracaso:  85.96705625307767 %\n"
          ],
          "name": "stdout"
        },
        {
          "output_type": "display_data",
          "data": {
            "image/png": "[encoded data removed]",
            "text/plain": [
              "<Figure size 432x288 with 1 Axes>"
            ]
          },
          "metadata": {
            "tags": [],
            "needs_background": "light"
          }
        }
      ]
    },
    {
      "cell_type": "markdown",
      "metadata": {
        "id": "lLaSgp6mqUIo"
      },
      "source": [
        "#3\n",
        "Estimate the probability of getting a 21, the average total number of cards required to complete 21 (including the three that you start with) and plot the experimental distribution of the number of card required to complete 21 with drawing cards sequentially from a shuffled Spanish 48-card deck with 3 10’s and a shuffled Poker 52-card deck with 4 10’s, assuming that you have in your hand the cards [7,7,5]ae and the remaining deck has n/2 cards. You can pick the n/2 cards in the remaining deck in whatever way you choose but with restriction that this has maximum two 7s and three 5, you have to keep the remaining deck fixed through the simulations, use Montecarlo with 10 millions simulations."
      ]
    },
    {
      "cell_type": "code",
      "metadata": {
        "id": "FCsTsWO3dqcy"
      },
      "source": [
        "#tercer punto \n",
        "def monteCarlo3(game, deck):\n",
        "  count21 =0 #\"Numero de veces que tenemos 21\"\n",
        "  countNo21 =0 #\"Numero de veces que NO tenemos 21\"\n",
        "  hand=[] #Mano\n",
        "  listCard21=[] #Lista de cartas con la cual se obtine 21\n",
        "  l21f=[]\n",
        "  CountP=[] #Contador de aciertos \n",
        "  CountNP=[]\n",
        "  count =0 #Lleva la suma de las cartas\n",
        "  cantCard = np.array([]) #Cantidad de cartas \n",
        "  \n",
        "  for k in range(game):\n",
        "\n",
        "    count =0\n",
        "    x=deck[:]\n",
        "    x.remove(7)\n",
        "    x.remove(7)\n",
        "    x.remove(5)\n",
        "    hand.append(7)\n",
        "    hand.append(7)\n",
        "    hand.append(5)\n",
        "    bucle = int(len(x)/2)# se hace un bucle para cumplir con la condicion de partir la baraja a la mitad \n",
        "    #bucle = 12\n",
        "    for i in range(bucle):   \n",
        "      y = r.choice(x)\n",
        "      #print('La carta que salio es: ',y)#########################################3\n",
        "      hand.append(y)\n",
        "      x.remove(y)\n",
        "      count = sum(hand)\n",
        "      #print(hand)#################################################\n",
        "      #print(count)#######################################\n",
        "      if count == 21:\n",
        "        count21+=1\n",
        "        count=0\n",
        "        #print(\"La mano fue: \",hand)#######################################\n",
        "        l21f=hand[:]\n",
        "        cantCard = np.append(cantCard,int(len(hand)))\n",
        "        #print(cantCard,\"Esto es tama\")####################################\n",
        "        listCard21.append([l21f])\n",
        "\n",
        "        hand=[]\n",
        "        l21f =[]\n",
        "        break\n",
        "      elif count > 21:\n",
        "        countNo21+=1\n",
        "        count=0\n",
        "        hand=[]\n",
        "        l21f =[]\n",
        "        break\n",
        "      elif i == ((bucle)-1):\n",
        "        hand=[]\n",
        "                    \n",
        "    #print(\"----------------------------------------------------------\")   \n",
        "    CountP.append(count21/(count21+countNo21))\n",
        "    CountNP.append(countNo21/(count21+countNo21))\n",
        "    #print(\"Lista de las probabilidades: \",CountP)\n",
        "\n",
        "\n",
        "  print(\"Éxito  : \",round((count21/(game))*100),\"%\")\n",
        "  print(\"Fracaso: \",round((countNo21/(game))*100),\"%\")\n",
        "  print(\"Probabulidad a partir del promedio de las probabilidades\")\n",
        "  print(\"Éxito  : \",np.mean(CountP)*100,\"%\")\n",
        "  print(\"Fracaso: \",np.mean(CountNP)*100,\"%\")\n",
        "  print(\"***********************************************\")\n",
        "  #print(CountP)   \n",
        "  #print(CountNP)\n",
        "\n",
        "\n",
        "  plt.hist(cantCard, bins= [1,2,3,4,5,6,7,8,9,10,11,12] )\n",
        "  plt.show()"
      ],
      "execution_count": null,
      "outputs": []
    },
    {
      "cell_type": "code",
      "metadata": {
        "id": "PhtwhpssedRR",
        "outputId": "f4bef0ac-e100-456c-cb9c-d7746717fb6e",
        "colab": {
          "base_uri": "https://localhost:8080/",
          "height": 785
        }
      },
      "source": [
        "monteCarlo3(10000000,spanishDeck48)\n",
        "monteCarlo3(10000000,pokerDeck58)\n",
        "print(\"\\n\\n\\n\")\n"
      ],
      "execution_count": null,
      "outputs": [
        {
          "output_type": "stream",
          "text": [
            "Éxito  :  10 %\n",
            "Fracaso:  90 %\n",
            "Probabulidad a partir del promedio de las probabilidades\n",
            "Éxito  :  9.975888662881289 %\n",
            "Fracaso:  90.02411133711868 %\n",
            "***********************************************\n"
          ],
          "name": "stdout"
        },
        {
          "output_type": "display_data",
          "data": {
            "image/png": "[encoded data removed]",
            "text/plain": [
              "<Figure size 432x288 with 1 Axes>"
            ]
          },
          "metadata": {
            "tags": [],
            "needs_background": "light"
          }
        },
        {
          "output_type": "stream",
          "text": [
            "Éxito  :  9 %\n",
            "Fracaso:  91 %\n",
            "Probabulidad a partir del promedio de las probabilidades\n",
            "Éxito  :  8.695624063797855 %\n",
            "Fracaso:  91.30437593620229 %\n",
            "***********************************************\n"
          ],
          "name": "stdout"
        },
        {
          "output_type": "display_data",
          "data": {
            "image/png": "[encoded data removed]",
            "text/plain": [
              "<Figure size 432x288 with 1 Axes>"
            ]
          },
          "metadata": {
            "tags": [],
            "needs_background": "light"
          }
        },
        {
          "output_type": "stream",
          "text": [
            "\n",
            "\n",
            "\n",
            "\n"
          ],
          "name": "stdout"
        }
      ]
    },
    {
      "cell_type": "markdown",
      "metadata": {
        "id": "SXWyk9HLqnEQ"
      },
      "source": [
        "#4\n",
        "Find two remaining decks with 12 cards for Alg Gr 1 9-11 and with 10 cards for Alg Gr 2 11-1; for a Spanish 48-card deck with 3 10’s and for a Poker 52-card deck with 4 10’s; one remaining has the highest probability of getting 21 (hot deck) and the other remaining s that has the lowest probability of getting 21(cold deck), assuming that you have in your hand the cards [7,7,5]. Calculate analytically the probabilities of getting a 21 for both the hot an cold deck, estimate this probabilities of getting a 21, the average total number of cards required to complete 21 (including the three that you start with) and plot the experimental distribution of the total number of card required to complete 21 (including the three that you start with) using Montecarlo with 10 millions simulations."
      ]
    },
    {
      "cell_type": "code",
      "metadata": {
        "id": "cLG_RsizeoMk"
      },
      "source": [
        "#4 punto\"\"\"\"\"\"\"\"\"\"\"\"\"\"\"\"\"\"\"\"\"\"\"\"\"\"\"\"\"\"\"\n",
        "\n",
        "import random as r\n",
        "import numpy as np\n",
        "import matplotlib.pyplot as plt\n",
        "\n",
        "\n",
        "def monteCarlo4(game, deck):\n",
        "  count21 =0 #\"Numero de veces que tenemos 21\"\n",
        "  countNo21 =0 #\"Numero de veces que NO tenemos 21\"\n",
        "  hand=[] #Mano\n",
        "  listCard21=[] #Lista de cartas con la cual se obtine 21\n",
        "  l21f=[]\n",
        "  CountP=[] #Contador de aciertos \n",
        "  CountNP=[]#Contador de no aciertos\n",
        "  count =0 #Lleva la suma de las cartas\n",
        "  cantCard = np.array([]) #Cantidad de cartas \n",
        "  for k in range(game):\n",
        "    count =0\n",
        "    x=deck[:]\n",
        "    x.remove(7)\n",
        "    x.remove(7)\n",
        "    x.remove(5)\n",
        "    hand.append(7)\n",
        "    hand.append(7)\n",
        "    hand.append(5)\n",
        "    bucle = int(len(x))\n",
        "    print(\"bucle\",bucle)\n",
        "    for i in range(bucle):\n",
        "      print(i)   \n",
        "      y = r.choice(x)\n",
        "      #print('La carta que salio es: ',y)#########################################3\n",
        "      hand.append(y)\n",
        "      x.remove(y)\n",
        "      count = sum(hand)\n",
        "      #print(hand)#################################################\n",
        "      #print(count)#######################################\n",
        "      if count == 21:\n",
        "        count21+=1\n",
        "        count=0\n",
        "        #print(\"La mano fue: \",hand)#######################################\n",
        "        l21f=hand[:]\n",
        "        cantCard = np.append(cantCard,int(len(hand)))\n",
        "        #print(cantCard,\"Esto es tama\")####################################\n",
        "        listCard21.append([l21f])\n",
        "\n",
        "        hand=[]\n",
        "        l21f =[]\n",
        "        break\n",
        "      elif count > 21:\n",
        "        countNo21+=1\n",
        "        count=0\n",
        "        hand=[]\n",
        "        l21f =[]\n",
        "        break\n",
        "      elif i == ((bucle)-1):#para porque se acaban las cartas\n",
        "        hand=[]\n",
        "                    \n",
        "    #print(\"----------------------------------------------------------\")   \n",
        "    CountP.append(count21/(count21+countNo21))\n",
        "    CountNP.append(countNo21/(count21+countNo21))\n",
        "    #print(\"Lista de las probabilidades: \",CountP)\n",
        "\n",
        "\n",
        "  #print(\"Éxito  : \",round((count21/(count21+countNo21))*100),\"%\")\n",
        "  print(\"_______________________________________\",count21/game)\n",
        "  print(\"Fracaso: \",round((countNo21/(count21+countNo21))*100),\"%\")\n",
        "  print(\"Probabulidad a partir del promedio de las probabilidades\")\n",
        "  print(\"Éxito  : \",np.mean(CountP)*100,\"%\")\n",
        "  print(\"Fracaso: \",np.mean(CountNP)*100,\"%\")\n",
        "  print(\"***********************************************\")\n",
        "  print((count21+countNo21))\n",
        "  #print(CountNP)\n",
        "\n",
        "\n",
        "  plt.hist(cantCard, bins= [1,2,3,4,5,6,7,8,9,10,11,12] )\n",
        "  plt.show()\n",
        "\n"
      ],
      "execution_count": null,
      "outputs": []
    },
    {
      "cell_type": "code",
      "metadata": {
        "id": "qVTN8bsaI9C8"
      },
      "source": [
        "import random as r\n",
        "import numpy as np\n",
        "import matplotlib.pyplot as plt\n",
        "\n",
        "def monteCarlo44(game, deck,plot):\n",
        "  count21 =0 #\"Numero de veces que tenemos 21\"\n",
        "  countNo21 =0 #\"Numero de veces que NO tenemos 21\"\n",
        "  hand=[] #Mano\n",
        "  listCard21=[] #Lista de cartas con la cual se obtine 21\n",
        "  l21f=[]\n",
        "  CountP=[] #Contador de aciertos \n",
        "  CountNP=[]\n",
        "  count =0 #Lleva la suma de las cartas\n",
        "  cantCard = np.array([]) #Cantidad de cartas \n",
        "  \n",
        "  for k in range(game):\n",
        "    count =0 #Lleva la suma de las cartas\n",
        "    x=deck[:] # copiamos la baraja\n",
        "    x.remove(7) #removemos y adicionamos a la mano\n",
        "    x.remove(7)\n",
        "    x.remove(5)\n",
        "    hand.append(7)\n",
        "    hand.append(7)\n",
        "    hand.append(5)\n",
        "    \n",
        "    while count<22:\n",
        "      #print(\"Esto es i \",i)   \n",
        "      y = r.choice(x)# Seleccionamos al azar \n",
        "      #print('La carta que salio es: ',y)#########################################3\n",
        "      hand.append(y)# agregamos a la mano\n",
        "      x.remove(y) # Removemos de la baraja \n",
        "      count = sum(hand)\n",
        "      #print(hand)#################################################\n",
        "      #print(count)#######################################\n",
        "      if count == 21:\n",
        "        count21+=1\n",
        "        count=0\n",
        "        #print(\"La mano fue: \",hand)#######################################\n",
        "        l21f=hand[:]\n",
        "        cantCard = np.append(cantCard,int(len(hand)))\n",
        "        #print(cantCard,\"Esto es la cantidad de cartas\")####################################\n",
        "        listCard21.append([l21f])\n",
        "        hand=[]\n",
        "        l21f =[]\n",
        "        break\n",
        "      elif count > 21:\n",
        "        countNo21+=1\n",
        "        count=0\n",
        "        hand=[]\n",
        "        l21f =[]\n",
        "        break\n",
        "      #elif i == ((bucle)-1):#para porque se acaban las cartas\n",
        "      #  hand=[]\n",
        "                    \n",
        "    #print(\"----------------------------------------------------------\")   \n",
        "    #CountP.append(count21/(count21+countNo21))\n",
        "    #CountNP.append(countNo21/(count21+countNo21))\n",
        "    #print(\"Lista de las probabilidades: \",CountP)\n",
        "\n",
        "  if plot == True:\n",
        "    #print(\"Éxito  : \",round((count21/(count21+countNo21))*100),\"%\")\n",
        "    print(\"éxito\",count21/game)\n",
        "    #print(\"Fracaso: \",round((countNo21/(count21+countNo21))*100),\"%\")\n",
        "    print(\"Probabulidad a partir del promedio de las probabilidades\")\n",
        "    print(\"Éxito  : \",count21/game*100,\"%\")\n",
        "    print(\"Fracaso: \",countNo21/game*100,\"%\")\n",
        "    print(\"***********************************************\")\n",
        "    print((count21+countNo21))\n",
        "    #print(CountNP)\n",
        "\n",
        "\n",
        "    plt.hist(cantCard, bins= [1,2,3,4,5,6,7,8,9,10,11,12] )\n",
        "    plt.show()\n",
        "  return count21/game\n",
        "\n",
        "\n"
      ],
      "execution_count": null,
      "outputs": []
    },
    {
      "cell_type": "code",
      "metadata": {
        "id": "YAyql4ibGv6s",
        "outputId": "a7220c2d-3e98-4a81-a048-dc575c004a5c",
        "colab": {
          "base_uri": "https://localhost:8080/",
          "height": 813
        }
      },
      "source": [
        "deck_hott =[1,1,1,1,2,2,2,2,10,10,10,3,7,7,5]\n",
        "print(\"Spanish Deck----hot deck\")\n",
        "monteCarlo44(10000000,deck_hott,True)\n",
        "print(\"****************************************\")\n",
        "deck_cold =[1,1,7,8,9,10,10,10,3,7,7,5]\n",
        "print(\"Spanish Deck----cold deck\")\n",
        "monteCarlo44(10000000,deck_cold,True)\n",
        "print(\"-----------------------------------------------------------------------------------------------------------------------------\")\n",
        "deck_hott_Poker =[1,1,1,1,2,2,2,2,10,10,10,10,7,7,5]\n",
        "print(\"Poker Deck----hot deck\")\n",
        "monteCarlo44(10000000,deck_hott_Poker,True)\n",
        "print(\"******************************************\")\n",
        "deck_cold =[1,1,13,8,9,10,10,10,13,11,10,5,7,7,5]\n",
        "print(\"Poker Deck----Cold deck\")\n",
        "monteCarlo44(10000000,deck_cold,True)"
      ],
      "execution_count": null,
      "outputs": [
        {
          "output_type": "stream",
          "text": [
            "Spanish Deck----hot deck\n",
            "éxito 0.4242748\n",
            "Probabulidad a partir del promedio de las probabilidades\n",
            "Éxito  :  42.42748 %\n",
            "Fracaso:  57.572520000000004 %\n",
            "***********************************************\n",
            "10000000\n"
          ],
          "name": "stdout"
        },
        {
          "output_type": "display_data",
          "data": {
            "image/png": "[encoded data removed]",
            "text/plain": [
              "<Figure size 432x288 with 1 Axes>"
            ]
          },
          "metadata": {
            "tags": [],
            "needs_background": "light"
          }
        },
        {
          "output_type": "stream",
          "text": [
            "****************************************\n",
            "Spanish Deck----cold deck\n",
            "éxito 0.0278589\n",
            "Probabulidad a partir del promedio de las probabilidades\n",
            "Éxito  :  2.7858899999999998 %\n",
            "Fracaso:  97.21411 %\n",
            "***********************************************\n",
            "10000000\n"
          ],
          "name": "stdout"
        },
        {
          "output_type": "display_data",
          "data": {
            "image/png": "[encoded data removed]",
            "text/plain": [
              "<Figure size 432x288 with 1 Axes>"
            ]
          },
          "metadata": {
            "tags": [],
            "needs_background": "light"
          }
        },
        {
          "output_type": "stream",
          "text": [
            "-----------------------------------------------------------------------------------------------------------------------------\n",
            "Poker Deck----hot deck\n"
          ],
          "name": "stdout"
        }
      ]
    },
    {
      "cell_type": "markdown",
      "metadata": {
        "id": "KJgusI1LrAGI"
      },
      "source": [
        "#5\n",
        "Estimate the average amount of money (expected value) that Ben wins or losses on a weekend if Ben goes to Vegas every weekend (Friday, Saturday and Sunday), plays every weekend day 10 hours, each game takes 3 mins. Assume that for each game he gets two possibilities, in one he gets in his hand the cards [7,7,5] and a remaining hot deck cards with 12 cards for Alg Gr 1 9-11 and with 10 cards for Alg Gr 2 11-1 which case he bets \\$1000 this happens with probability 1/10; in the other one he gets no cards in his hand a complete shuffled deck in which case he bets \\$10, this happens with the remaining probability 9/10. Use 10000 Montecarlo simulations to estimated the expected amount of money that Ben wins or losses on a weekend for a Spanish 48-card deck with 3 10’s and for a Poker 52-card deck with 4 10’s."
      ]
    },
    {
      "cell_type": "markdown",
      "metadata": {
        "id": "o5eZ1GXBrgeW"
      },
      "source": [
        "#Se declaran las funciones adicionales para el punto 5"
      ]
    },
    {
      "cell_type": "code",
      "metadata": {
        "id": "PaUAEyekHuJ2"
      },
      "source": [
        "def monteCarlo1(game, deck):\n",
        "  count21 =0 #\"Numero de veces que tenemos 21\"\n",
        "  countNo21 =0 #\"Numero de veces que NO tenemos 21\"\n",
        "  hand=[] #Mano\n",
        "  listCard21=[] #Lista de cartas con la cual se obtine 21\n",
        "  l21f=[]\n",
        "  CountP=[] #Contador de aciertos \n",
        "  CountNP=[]\n",
        "  count =0 #Lleva la suma de las cartas\n",
        "  cantCard = np.array([]) #Cantidad de cartas \n",
        "  \n",
        "  for k in range(game):\n",
        "    count =0 #Lleva la suma de las cartas\n",
        "    x=deck[:] # copiamos la baraja\n",
        "    \n",
        "    while count<22:\n",
        "      #print(\"Esto es i \",i)   \n",
        "      y = r.choice(x)\n",
        "      #print('La carta que salio es: ',y)#########################################3\n",
        "      hand.append(y)\n",
        "      x.remove(y)\n",
        "      count = sum(hand)\n",
        "      #print(hand)#################################################\n",
        "      #print(count)#######################################\n",
        "      if count == 21:\n",
        "        count21+=1\n",
        "        count=0\n",
        "        #print(\"La mano fue: \",hand)#######################################\n",
        "        l21f=hand[:]\n",
        "        cantCard = np.append(cantCard,int(len(hand)))\n",
        "        #print(cantCard,\"Esto es tama\")####################################\n",
        "        listCard21.append([l21f])\n",
        "        hand=[]\n",
        "        l21f =[]\n",
        "        break\n",
        "      elif count > 21:\n",
        "        countNo21+=1\n",
        "        count=0\n",
        "        hand=[]\n",
        "        l21f =[]\n",
        "        break\n",
        "  return count21/game\n",
        "def montecarlo5(decks,hours):\n",
        "  moneyWin = 0\n",
        "  moneyLost = 0\n",
        "  for i in range(hours*20):\n",
        "    p = (r.randrange(10)+1)\n",
        "    if p == 1:\n",
        "      result = monteCarlo44(1,decks,False)\n",
        "      if result == 1:\n",
        "        moneyWin += 1000\n",
        "      else:\n",
        "        moneyLost += 1000 \n",
        "    else:\n",
        "      result2 = monteCarlo1(1,decks)\n",
        "      if result2 == 1:\n",
        "        moneyWin += 10\n",
        "      else:\n",
        "        moneyLost += 10\n",
        "    \n",
        "  #print(\"The Money Win :\",moneyWin)\n",
        "  #print(\"The Money Lost: \",moneyLost)\n",
        "  #print(\"The total profit is :\",moneyWin-moneyLost)\n",
        "  return moneyWin-moneyLost"
      ],
      "execution_count": null,
      "outputs": []
    },
    {
      "cell_type": "code",
      "metadata": {
        "id": "_ZQiQHoCgBkY"
      },
      "source": [
        "### 5 punto \n",
        "def montecarlo6(game,deck):\n",
        "  suma = 0\n",
        "  for i in range(game):\n",
        "    suma += montecarlo5(deck,10)\n",
        "  mean = suma/game\n",
        "  return mean\n"
      ],
      "execution_count": null,
      "outputs": []
    },
    {
      "cell_type": "code",
      "metadata": {
        "id": "sD7cKdpgr7QT",
        "outputId": "ffee20f3-9447-44a5-9195-5d85d3d334d9",
        "colab": {
          "base_uri": "https://localhost:8080/",
          "height": 104
        }
      },
      "source": [
        "print(\"Spanish Deck\")\n",
        "print(montecarlo6(10000,spanishDeck48))\n",
        "print(\"------------------------------------------------------------------------------------------\")\n",
        "print(\"Poker Deck\")\n",
        "print(montecarlo6(10000,pokerDeck58))\n"
      ],
      "execution_count": null,
      "outputs": [
        {
          "output_type": "stream",
          "text": [
            "Spanish Deck\n",
            "-17246.302\n",
            "------------------------------------------------------------------------------------------\n",
            "Poker Deck\n",
            "-17796.334\n"
          ],
          "name": "stdout"
        }
      ]
    },
    {
      "cell_type": "markdown",
      "metadata": {
        "id": "KAzEcn4Lrzz3"
      },
      "source": [
        "#6\n",
        "Extra credit (one class participation). Calculate analytically the average amount of money (expected values) that Ben wins or losses on a weekend for a Spanish 48-card deck with 3 10’s and for a Poker 52-card deck with 4 10’s. \\\n",
        "\n",
        " \\\n",
        " Para el punto  6 utilizamos la función montecarlo5() que definimos antes por equivocación pero funciona genial\n"
      ]
    },
    {
      "cell_type": "code",
      "metadata": {
        "id": "_BU-JkBIf-vE",
        "outputId": "ebb3debf-0705-456e-8297-648ab5b81c06",
        "colab": {
          "base_uri": "https://localhost:8080/",
          "height": 104
        }
      },
      "source": [
        "# 6to punto \n",
        "print(\"Spanish Deck\")\n",
        "print(montecarlo5(spanishDeck48,10))\n",
        "print(\"---------------------------------------------\")\n",
        "print(\"Poker Deck\")\n",
        "print(montecarlo5(pokerDeck58,10))\n",
        "\n"
      ],
      "execution_count": null,
      "outputs": [
        {
          "output_type": "stream",
          "text": [
            "Spanish Deck\n",
            "-22170\n",
            "---------------------------------------------\n",
            "Poker Deck\n",
            "-19440\n"
          ],
          "name": "stdout"
        }
      ]
    },
    {
      "cell_type": "code",
      "metadata": {
        "id": "1camnyOjsD9N"
      },
      "source": [
        ""
      ],
      "execution_count": null,
      "outputs": []
    }
  ]
}