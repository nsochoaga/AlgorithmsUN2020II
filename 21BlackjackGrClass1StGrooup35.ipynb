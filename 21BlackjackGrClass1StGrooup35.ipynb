{
  "nbformat": 4,
  "nbformat_minor": 0,
  "metadata": {
    "colab": {
      "name": "Untitled8.ipynb",
      "provenance": []
    },
    "kernelspec": {
      "name": "python3",
      "display_name": "Python 3"
    }
  },
  "cells": [
    {
      "cell_type": "code",
      "metadata": {
        "id": "CfEjTkwVTRhe"
      },
      "source": [
        "import random as r\n",
        "import numpy as np\n",
        "import matplotlib.pyplot as plt\n",
        "\n",
        "spanishDeck48=[1,2,3,4,5,6,7,10,11,12,1,2,3,4,5,6,7,8,9,10,11,12,1,2,3,4,5,6,7,8,9,10,11,12,1,2,3,4,5,6,7,8,9,10,11,12]\n",
        "pokerDeck58=[1,2,3,4,5,6,7,8,9,10,11,12,13,1,2,3,4,5,6,7,8,9,10,11,12,13,1,2,3,4,5,6,7,8,9,10,11,12,13,1,2,3,4,5,6,7,8,9,10,11,12,13]\n",
        "spanishDeckValues=[1,2,3,4,5,6,7,8,9,10,10,10,1,2,3,4,5,6,7,8,9,10,10,10,1,2,3,4,5,6,7,8,9,10,10,10,1,2,3,4,5,6,7,8,9,10,10,10]\n",
        "pokerDeckValues=[1,2,3,4,5,6,7,8,9,10,10,10,10,1,2,3,4,5,6,7,8,9,10,10,10,10,1,2,3,4,5,6,7,8,9,10,10,10,10,1,2,3,4,5,6,7,8,9,10,10,10,10]\n",
        "\n",
        "\n",
        "count21 =0\n",
        "countNo21 =0\n",
        "run = True"
      ],
      "execution_count": null,
      "outputs": []
    },
    {
      "cell_type": "code",
      "metadata": {
        "id": "XioOKkjNTeVz"
      },
      "source": [
        "#Prinmer punto \n",
        "def monteCarlo(game, deck):\n",
        "  count21 =0\n",
        "  countNo21 =0\n",
        "  hand=[]\n",
        "  listCard21=[]\n",
        "  l21f=[]\n",
        "  CountP=[]\n",
        "  CountNP=[]\n",
        "  \n",
        "  cantCard = np.array([])\n",
        "  for k in range(game):\n",
        "    count =0\n",
        "    x=deck[:]\n",
        "    for i in x:   \n",
        "      y = r.choice(x)\n",
        "      #print('La carta que salio es: ',y)#########################################3\n",
        "      hand.append(y)\n",
        "      x.remove(y)\n",
        "      count = sum(hand)\n",
        "      #print(count)#######################################\n",
        "      if count == 21:\n",
        "        count21+=1\n",
        "        count=0\n",
        "        #print(\"La mano fue: \",hand)#######################################\n",
        "        l21f=hand[:]\n",
        "        cantCard = np.append(cantCard,int(len(hand)))\n",
        "        #print(cantCard,\"Esto es tama\")####################################\n",
        "        listCard21.append([l21f])\n",
        "        hand=[]\n",
        "        l21f =[]\n",
        "        break\n",
        "      elif count>21:\n",
        "        countNo21+=1\n",
        "        count=0\n",
        "        hand=[]\n",
        "        l21f =[]\n",
        "        break\n",
        "    CountP.append(count21/(count21+countNo21))\n",
        "    CountNP.append(countNo21/(count21+countNo21))\n",
        "    #print(\"Lista de las probabilidades: \",CountP)\n",
        "    #print(count21+countNo21)\n",
        "\n",
        "  print(\"Éxito  : \",round((count21/(game))*100),\"%\")\n",
        "  print(\"Fracaso: \",round((countNo21/(game))*100),\"%\")\n",
        "  print(\"Probabulidad a partir del promedio de las probabilidades\")\n",
        "  print(\"Éxito  : \",np.mean(CountP)*100,\"%\")\n",
        "  print(\"Fracaso: \",np.mean(CountNP)*100,\"%\")\n",
        "\n",
        "  plt.hist(cantCard, bins= [1,2,3,4,5,6,7,8,9,10,11,12] )\n",
        "  plt.show()"
      ],
      "execution_count": null,
      "outputs": []
    },
    {
      "cell_type": "code",
      "metadata": {
        "id": "uIpixIxuUnOT",
        "outputId": "c7f699f2-4e46-4ff4-9921-5a90d311006d",
        "colab": {
          "base_uri": "https://localhost:8080/",
          "height": 755
        }
      },
      "source": [
        "monteCarlo(10000,spanishDeck48)\n",
        "monteCarlo(10000,pokerDeck58)\n",
        "print(\"\\n\\n\\n\")\n"
      ],
      "execution_count": null,
      "outputs": [
        {
          "output_type": "stream",
          "text": [
            "Éxito  :  16 %\n",
            "Fracaso:  84 %\n",
            "Probabulidad a partir del promedio de las probabilidades\n",
            "Éxito  :  15.728289272315282 %\n",
            "Fracaso:  84.27171072768473 %\n"
          ],
          "name": "stdout"
        },
        {
          "output_type": "display_data",
          "data": {
            "image/png": "[encoded data removed]",
            "text/plain": [
              "<Figure size 432x288 with 1 Axes>"
            ]
          },
          "metadata": {
            "tags": [],
            "needs_background": "light"
          }
        },
        {
          "output_type": "stream",
          "text": [
            "Éxito  :  14 %\n",
            "Fracaso:  86 %\n",
            "Probabulidad a partir del promedio de las probabilidades\n",
            "Éxito  :  14.602615898532095 %\n",
            "Fracaso:  85.3973841014679 %\n"
          ],
          "name": "stdout"
        },
        {
          "output_type": "display_data",
          "data": {
            "image/png": "[encoded data removed]",
            "text/plain": [
              "<Figure size 432x288 with 1 Axes>"
            ]
          },
          "metadata": {
            "tags": [],
            "needs_background": "light"
          }
        },
        {
          "output_type": "stream",
          "text": [
            "\n",
            "\n",
            "\n",
            "\n"
          ],
          "name": "stdout"
        }
      ]
    },
    {
      "cell_type": "code",
      "metadata": {
        "id": "JAzk7Q_aWm91",
        "outputId": "d968c80a-1073-469e-e57a-9c9686e9ef10",
        "colab": {
          "base_uri": "https://localhost:8080/",
          "height": 686
        }
      },
      "source": [
        "#--------------------Pto2----------------------------------\n",
        "monteCarlo(10000,spanishDeckValues)\n",
        "monteCarlo(10000,pokerDeckValues)\n"
      ],
      "execution_count": null,
      "outputs": [
        {
          "output_type": "stream",
          "text": [
            "Éxito  :  15 %\n",
            "Fracaso:  85 %\n",
            "Probabulidad a partir del promedio de las probabilidades\n",
            "Éxito  :  15.166581267956447 %\n",
            "Fracaso:  84.83341873204355 %\n"
          ],
          "name": "stdout"
        },
        {
          "output_type": "display_data",
          "data": {
            "image/png": "[encoded data removed]",
            "text/plain": [
              "<Figure size 432x288 with 1 Axes>"
            ]
          },
          "metadata": {
            "tags": [],
            "needs_background": "light"
          }
        },
        {
          "output_type": "stream",
          "text": [
            "Éxito  :  14 %\n",
            "Fracaso:  86 %\n",
            "Probabulidad a partir del promedio de las probabilidades\n",
            "Éxito  :  14.9915533847796 %\n",
            "Fracaso:  85.00844661522041 %\n"
          ],
          "name": "stdout"
        },
        {
          "output_type": "display_data",
          "data": {
            "image/png": "[encoded data removed]",
            "text/plain": [
              "<Figure size 432x288 with 1 Axes>"
            ]
          },
          "metadata": {
            "tags": [],
            "needs_background": "light"
          }
        }
      ]
    },
    {
      "cell_type": "code",
      "metadata": {
        "id": "FCsTsWO3dqcy"
      },
      "source": [
        "#tercer punto \n",
        "def monteCarlo3(game, deck):\n",
        "  #c2 =0\n",
        "  #c3 =0\n",
        "  count21 =0\n",
        "  countNo21 =0\n",
        "  hand=[]\n",
        "  listCard21=[]\n",
        "  l21f=[]\n",
        "  CountP=[]\n",
        "  CountNP=[]\n",
        "  \n",
        "  cantCard = np.array([])\n",
        "  for k in range(game):\n",
        "\n",
        "    count =0\n",
        "    x=deck[:]\n",
        "    x.remove(7)\n",
        "    x.remove(7)\n",
        "    x.remove(5)\n",
        "    hand.append(7)\n",
        "    hand.append(7)\n",
        "    hand.append(5)\n",
        "    bucle = int(len(x)/2)\n",
        "    #bucle = 12\n",
        "    for i in range(bucle):   \n",
        "      y = r.choice(x)\n",
        "      #print('La carta que salio es: ',y)#########################################3\n",
        "      hand.append(y)\n",
        "      x.remove(y)\n",
        "      count = sum(hand)\n",
        "      #print(hand)#################################################\n",
        "      #print(count)#######################################\n",
        "      if count == 21:\n",
        "        count21+=1\n",
        "        count=0\n",
        "        #print(\"La mano fue: \",hand)#######################################\n",
        "        l21f=hand[:]\n",
        "        cantCard = np.append(cantCard,int(len(hand)))\n",
        "        #print(cantCard,\"Esto es tama\")####################################\n",
        "        listCard21.append([l21f])\n",
        "\n",
        "        hand=[]\n",
        "        l21f =[]\n",
        "        break\n",
        "      elif count > 21:\n",
        "        countNo21+=1\n",
        "        count=0\n",
        "        hand=[]\n",
        "        l21f =[]\n",
        "        break\n",
        "      elif i == ((bucle)-1):\n",
        "        hand=[]\n",
        "                    \n",
        "    #print(\"----------------------------------------------------------\")   \n",
        "    CountP.append(count21/(count21+countNo21))\n",
        "    CountNP.append(countNo21/(count21+countNo21))\n",
        "    #print(\"Lista de las probabilidades: \",CountP)\n",
        "\n",
        "\n",
        "  print(\"Éxito  : \",round((count21/(game))*100),\"%\")\n",
        "  print(\"Fracaso: \",round((countNo21/(game))*100),\"%\")\n",
        "  print(\"Probabulidad a partir del promedio de las probabilidades\")\n",
        "  print(\"Éxito  : \",np.mean(CountP)*100,\"%\")\n",
        "  print(\"Fracaso: \",np.mean(CountNP)*100,\"%\")\n",
        "  print(\"***********************************************\")\n",
        "  #print(CountP)   \n",
        "  #print(CountNP)\n",
        "\n",
        "\n",
        "  plt.hist(cantCard, bins= [1,2,3,4,5,6,7,8,9,10,11,12] )\n",
        "  plt.show()"
      ],
      "execution_count": null,
      "outputs": []
    },
    {
      "cell_type": "code",
      "metadata": {
        "id": "PhtwhpssedRR",
        "outputId": "6b9322fc-2fec-49f3-d905-979967a2d0ba",
        "colab": {
          "base_uri": "https://localhost:8080/",
          "height": 790
        }
      },
      "source": [
        "monteCarlo3(10000,spanishDeck48)\n",
        "monteCarlo3(10000,pokerDeck58)\n",
        "print(\"\\n\\n\\n\")\n"
      ],
      "execution_count": null,
      "outputs": [
        {
          "output_type": "stream",
          "text": [
            "Éxito  :  10 %\n",
            "Fracaso:  90 %\n",
            "Probabulidad a partir del promedio de las probabilidades\n",
            "Éxito  :  9.36375550875885 %\n",
            "Fracaso:  90.63624449124116 %\n",
            "***********************************************\n"
          ],
          "name": "stdout"
        },
        {
          "output_type": "display_data",
          "data": {
            "image/png": "[encoded data removed]",
            "text/plain": [
              "<Figure size 432x288 with 1 Axes>"
            ]
          },
          "metadata": {
            "tags": [],
            "needs_background": "light"
          }
        },
        {
          "output_type": "stream",
          "text": [
            "Éxito  :  9 %\n",
            "Fracaso:  91 %\n",
            "Probabulidad a partir del promedio de las probabilidades\n",
            "Éxito  :  8.450090078859981 %\n",
            "Fracaso:  91.54990992114003 %\n",
            "***********************************************\n"
          ],
          "name": "stdout"
        },
        {
          "output_type": "display_data",
          "data": {
            "image/png": "[encoded data removed]",
            "text/plain": [
              "<Figure size 432x288 with 1 Axes>"
            ]
          },
          "metadata": {
            "tags": [],
            "needs_background": "light"
          }
        },
        {
          "output_type": "stream",
          "text": [
            "\n",
            "\n",
            "\n",
            "\n"
          ],
          "name": "stdout"
        }
      ]
    },
    {
      "cell_type": "code",
      "metadata": {
        "id": "cLG_RsizeoMk"
      },
      "source": [
        "#4 punto\"\"\"\"\"\"\"\"\"\"\"\"\"\"\"\"\"\"\"\"\"\"\"\"\"\"\"\"\"\"\"\n",
        "\n",
        "import random as r\n",
        "import numpy as np\n",
        "import matplotlib.pyplot as plt\n",
        "\n",
        "\n",
        "def monteCarlo4(game, deck):\n",
        "  count21 =0\n",
        "  countNo21 =0\n",
        "  hand=[]\n",
        "  listCard21=[]\n",
        "  l21f=[]\n",
        "  CountP=[]\n",
        "  CountNP=[]\n",
        "  \n",
        "  cantCard = np.array([])\n",
        "  for k in range(game):\n",
        "\n",
        "    count =0\n",
        "    x=deck[:]\n",
        "    x.remove(7)\n",
        "    x.remove(7)\n",
        "    x.remove(5)\n",
        "    hand.append(7)\n",
        "    hand.append(7)\n",
        "    hand.append(5)\n",
        "    bucle = int(len(x))\n",
        "    print(\"bucle\",bucle)\n",
        "    #bucle = 12\n",
        "    for i in range(bucle):\n",
        "      print(i)   \n",
        "      y = r.choice(x)\n",
        "      #print('La carta que salio es: ',y)#########################################3\n",
        "      hand.append(y)\n",
        "      x.remove(y)\n",
        "      count = sum(hand)\n",
        "      #print(hand)#################################################\n",
        "      #print(count)#######################################\n",
        "      if count == 21:\n",
        "        count21+=1\n",
        "        count=0\n",
        "        #print(\"La mano fue: \",hand)#######################################\n",
        "        l21f=hand[:]\n",
        "        cantCard = np.append(cantCard,int(len(hand)))\n",
        "        #print(cantCard,\"Esto es tama\")####################################\n",
        "        listCard21.append([l21f])\n",
        "\n",
        "        hand=[]\n",
        "        l21f =[]\n",
        "        break\n",
        "      elif count > 21:\n",
        "        countNo21+=1\n",
        "        count=0\n",
        "        hand=[]\n",
        "        l21f =[]\n",
        "        break\n",
        "      elif i == ((bucle)-1):#para porque se acaban las cartas\n",
        "        hand=[]\n",
        "                    \n",
        "    #print(\"----------------------------------------------------------\")   \n",
        "    CountP.append(count21/(count21+countNo21))\n",
        "    CountNP.append(countNo21/(count21+countNo21))\n",
        "    #print(\"Lista de las probabilidades: \",CountP)\n",
        "\n",
        "\n",
        "  #print(\"Éxito  : \",round((count21/(count21+countNo21))*100),\"%\")\n",
        "  print(\"_______________________________________\",count21/game)\n",
        "  print(\"Fracaso: \",round((countNo21/(count21+countNo21))*100),\"%\")\n",
        "  print(\"Probabulidad a partir del promedio de las probabilidades\")\n",
        "  print(\"Éxito  : \",np.mean(CountP)*100,\"%\")\n",
        "  print(\"Fracaso: \",np.mean(CountNP)*100,\"%\")\n",
        "  print(\"***********************************************\")\n",
        "  print((count21+countNo21))\n",
        "  #print(CountNP)\n",
        "\n",
        "\n",
        "  plt.hist(cantCard, bins= [1,2,3,4,5,6,7,8,9,10,11,12] )\n",
        "  plt.show()\n",
        "\n"
      ],
      "execution_count": null,
      "outputs": []
    },
    {
      "cell_type": "code",
      "metadata": {
        "id": "qVTN8bsaI9C8"
      },
      "source": [
        "import random as r\n",
        "import numpy as np\n",
        "import matplotlib.pyplot as plt\n",
        "\n",
        "def monteCarlo44(game, deck,plot):\n",
        "  count21 =0 #\"Numero de veces que tenemos 21\"\n",
        "  countNo21 =0 #\"Numero de veces que NO tenemos 21\"\n",
        "  hand=[] #Mano\n",
        "  listCard21=[] #Lista de cartas con la cual se obtine 21\n",
        "  l21f=[]\n",
        "  CountP=[] #Contador de aciertos \n",
        "  CountNP=[]\n",
        "  count =0 #Lleva la suma de las cartas\n",
        "  cantCard = np.array([]) #Cantidad de cartas \n",
        "  \n",
        "  for k in range(game):\n",
        "    count =0 #Lleva la suma de las cartas\n",
        "    x=deck[:] # copiamos la baraja\n",
        "    x.remove(7) #removemos y adicionamos a la mano\n",
        "    x.remove(7)\n",
        "    x.remove(5)\n",
        "    hand.append(7)\n",
        "    hand.append(7)\n",
        "    hand.append(5)\n",
        "    \n",
        "    while count<22:\n",
        "      #print(\"Esto es i \",i)   \n",
        "      y = r.choice(x)\n",
        "      #print('La carta que salio es: ',y)#########################################3\n",
        "      hand.append(y)\n",
        "      x.remove(y)\n",
        "      count = sum(hand)\n",
        "      #print(hand)#################################################\n",
        "      #print(count)#######################################\n",
        "      if count == 21:\n",
        "        count21+=1\n",
        "        count=0\n",
        "        #print(\"La mano fue: \",hand)#######################################\n",
        "        l21f=hand[:]\n",
        "        cantCard = np.append(cantCard,int(len(hand)))\n",
        "        #print(cantCard,\"Esto es tama\")####################################\n",
        "        listCard21.append([l21f])\n",
        "        hand=[]\n",
        "        l21f =[]\n",
        "        break\n",
        "      elif count > 21:\n",
        "        countNo21+=1\n",
        "        count=0\n",
        "        hand=[]\n",
        "        l21f =[]\n",
        "        break\n",
        "      #elif i == ((bucle)-1):#para porque se acaban las cartas\n",
        "      #  hand=[]\n",
        "                    \n",
        "    #print(\"----------------------------------------------------------\")   \n",
        "    #CountP.append(count21/(count21+countNo21))\n",
        "    #CountNP.append(countNo21/(count21+countNo21))\n",
        "    #print(\"Lista de las probabilidades: \",CountP)\n",
        "\n",
        "  if plot == True:\n",
        "    #print(\"Éxito  : \",round((count21/(count21+countNo21))*100),\"%\")\n",
        "    print(\"_______________________________________\",count21/game)\n",
        "    #print(\"Fracaso: \",round((countNo21/(count21+countNo21))*100),\"%\")\n",
        "    print(\"Probabulidad a partir del promedio de las probabilidades\")\n",
        "    print(\"Éxito  : \",count21/game*100,\"%\")\n",
        "    print(\"Fracaso: \",countNo21/game*100,\"%\")\n",
        "    print(\"***********************************************\")\n",
        "    print((count21+countNo21))\n",
        "    #print(CountNP)\n",
        "\n",
        "\n",
        "    plt.hist(cantCard, bins= [1,2,3,4,5,6,7,8,9,10,11,12] )\n",
        "    plt.show()\n",
        "  return count21/game\n",
        "\n",
        "\n"
      ],
      "execution_count": null,
      "outputs": []
    },
    {
      "cell_type": "code",
      "metadata": {
        "id": "YAyql4ibGv6s",
        "outputId": "ff90c02f-29ab-4afd-8399-0894b75d067b",
        "colab": {
          "base_uri": "https://localhost:8080/",
          "height": 1000
        }
      },
      "source": [
        "deck_hott =[1,1,1,1,2,2,2,2,10,10,10,3,7,7,5]\n",
        "monteCarlo44(1000,deck_hott,True)\n",
        "print(\"****************************************\")\n",
        "deck_cold =[1,1,7,8,9,10,10,10,3,7,7,5]\n",
        "monteCarlo44(1000,deck_cold,True)\n",
        "print(\"-----------------------------------------------------------------------------------------------------------------------------\")\n",
        "deck_hott_Poker =[1,1,1,1,2,2,2,2,10,10,10,10,7,7,5]\n",
        "monteCarlo44(1000,deck_hott_Poker,True)\n",
        "print(\"******************************************\")\n",
        "deck_cold =[1,1,13,8,9,10,10,10,13,11,10,5,7,7,5]\n",
        "monteCarlo44(1000,deck_cold,True)"
      ],
      "execution_count": null,
      "outputs": [
        {
          "output_type": "stream",
          "text": [
            "_______________________________________ 0.432\n",
            "Probabulidad a partir del promedio de las probabilidades\n",
            "Éxito  :  43.2 %\n",
            "Fracaso:  56.8 %\n",
            "***********************************************\n",
            "1000\n"
          ],
          "name": "stdout"
        },
        {
          "output_type": "display_data",
          "data": {
            "image/png": "[encoded data removed]",
            "text/plain": [
              "<Figure size 432x288 with 1 Axes>"
            ]
          },
          "metadata": {
            "tags": [],
            "needs_background": "light"
          }
        },
        {
          "output_type": "stream",
          "text": [
            "****************************************\n",
            "_______________________________________ 0.039\n",
            "Probabulidad a partir del promedio de las probabilidades\n",
            "Éxito  :  3.9 %\n",
            "Fracaso:  96.1 %\n",
            "***********************************************\n",
            "1000\n"
          ],
          "name": "stdout"
        },
        {
          "output_type": "display_data",
          "data": {
            "image/png": "[encoded data removed]",
            "text/plain": [
              "<Figure size 432x288 with 1 Axes>"
            ]
          },
          "metadata": {
            "tags": [],
            "needs_background": "light"
          }
        },
        {
          "output_type": "stream",
          "text": [
            "-----------------------------------------------------------------------------------------------------------------------------\n",
            "_______________________________________ 0.423\n",
            "Probabulidad a partir del promedio de las probabilidades\n",
            "Éxito  :  42.3 %\n",
            "Fracaso:  57.699999999999996 %\n",
            "***********************************************\n",
            "1000\n"
          ],
          "name": "stdout"
        },
        {
          "output_type": "display_data",
          "data": {
            "image/png": "[encoded data removed]",
            "text/plain": [
              "<Figure size 432x288 with 1 Axes>"
            ]
          },
          "metadata": {
            "tags": [],
            "needs_background": "light"
          }
        },
        {
          "output_type": "stream",
          "text": [
            "******************************************\n",
            "_______________________________________ 0.016\n",
            "Probabulidad a partir del promedio de las probabilidades\n",
            "Éxito  :  1.6 %\n",
            "Fracaso:  98.4 %\n",
            "***********************************************\n",
            "1000\n"
          ],
          "name": "stdout"
        },
        {
          "output_type": "display_data",
          "data": {
            "image/png": "[encoded data removed]",
            "text/plain": [
              "<Figure size 432x288 with 1 Axes>"
            ]
          },
          "metadata": {
            "tags": [],
            "needs_background": "light"
          }
        },
        {
          "output_type": "execute_result",
          "data": {
            "text/plain": [
              "0.016"
            ]
          },
          "metadata": {
            "tags": []
          },
          "execution_count": 10
        }
      ]
    },
    {
      "cell_type": "code",
      "metadata": {
        "id": "PaUAEyekHuJ2"
      },
      "source": [
        "def monteCarlo1(game, deck):\n",
        "  count21 =0 #\"Numero de veces que tenemos 21\"\n",
        "  countNo21 =0 #\"Numero de veces que NO tenemos 21\"\n",
        "  hand=[] #Mano\n",
        "  listCard21=[] #Lista de cartas con la cual se obtine 21\n",
        "  l21f=[]\n",
        "  CountP=[] #Contador de aciertos \n",
        "  CountNP=[]\n",
        "  count =0 #Lleva la suma de las cartas\n",
        "  cantCard = np.array([]) #Cantidad de cartas \n",
        "  \n",
        "  for k in range(game):\n",
        "    count =0 #Lleva la suma de las cartas\n",
        "    x=deck[:] # copiamos la baraja\n",
        "    \n",
        "    while count<22:\n",
        "      #print(\"Esto es i \",i)   \n",
        "      y = r.choice(x)\n",
        "      #print('La carta que salio es: ',y)#########################################3\n",
        "      hand.append(y)\n",
        "      x.remove(y)\n",
        "      count = sum(hand)\n",
        "      #print(hand)#################################################\n",
        "      #print(count)#######################################\n",
        "      if count == 21:\n",
        "        count21+=1\n",
        "        count=0\n",
        "        #print(\"La mano fue: \",hand)#######################################\n",
        "        l21f=hand[:]\n",
        "        cantCard = np.append(cantCard,int(len(hand)))\n",
        "        #print(cantCard,\"Esto es tama\")####################################\n",
        "        listCard21.append([l21f])\n",
        "        hand=[]\n",
        "        l21f =[]\n",
        "        break\n",
        "      elif count > 21:\n",
        "        countNo21+=1\n",
        "        count=0\n",
        "        hand=[]\n",
        "        l21f =[]\n",
        "        break\n",
        "  return count21/game\n",
        "def montecarlo5(decks,hours):\n",
        "  moneyWin = 0\n",
        "  moneyLost = 0\n",
        "  for i in range(hours*20):\n",
        "    p = (r.randrange(10)+1)\n",
        "    if p == 1:\n",
        "      result = monteCarlo44(1,decks,False)\n",
        "      if result == 1:\n",
        "        moneyWin += 1000\n",
        "      else:\n",
        "        moneyLost += 1000 \n",
        "    else:\n",
        "      result2 = monteCarlo1(1,decks)\n",
        "      if result2 == 1:\n",
        "        moneyWin += 10\n",
        "      else:\n",
        "        moneyLost += 10\n",
        "    \n",
        "  #print(\"The Money Win :\",moneyWin)\n",
        "  #print(\"The Money Lost: \",moneyLost)\n",
        "  #print(\"The total profit is :\",moneyWin-moneyLost)\n",
        "  return moneyWin-moneyLost"
      ],
      "execution_count": null,
      "outputs": []
    },
    {
      "cell_type": "code",
      "metadata": {
        "id": "_ZQiQHoCgBkY"
      },
      "source": [
        "### 5 punto \n",
        "def montecarlo6(game,deck):\n",
        "  suma = 0\n",
        "  for i in range(game):\n",
        "    suma += montecarlo5(deck,10)\n",
        "  mean = suma/game\n",
        "  return mean\n"
      ],
      "execution_count": null,
      "outputs": []
    },
    {
      "cell_type": "code",
      "metadata": {
        "id": "sD7cKdpgr7QT",
        "outputId": "b3d0f70c-904e-4f2b-94fd-60b84d646a49",
        "colab": {
          "base_uri": "https://localhost:8080/",
          "height": 34
        }
      },
      "source": [
        "montecarlo6(10000,spanishDeck48)"
      ],
      "execution_count": null,
      "outputs": [
        {
          "output_type": "execute_result",
          "data": {
            "text/plain": [
              "-17238.457"
            ]
          },
          "metadata": {
            "tags": []
          },
          "execution_count": 13
        }
      ]
    },
    {
      "cell_type": "code",
      "metadata": {
        "id": "_BU-JkBIf-vE",
        "outputId": "39252dde-4e51-49e7-9b71-40e0446bbdcd",
        "colab": {
          "base_uri": "https://localhost:8080/",
          "height": 34
        }
      },
      "source": [
        "# 6to punto \n",
        "montecarlo5(spanishDeck48,10)\n"
      ],
      "execution_count": null,
      "outputs": [
        {
          "output_type": "execute_result",
          "data": {
            "text/plain": [
              "-19260"
            ]
          },
          "metadata": {
            "tags": []
          },
          "execution_count": 14
        }
      ]
    },
    {
      "cell_type": "code",
      "metadata": {
        "id": "1camnyOjsD9N"
      },
      "source": [
        ""
      ],
      "execution_count": null,
      "outputs": []
    }
  ]
}
